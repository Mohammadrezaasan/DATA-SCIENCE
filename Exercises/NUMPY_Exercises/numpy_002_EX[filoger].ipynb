{
 "cells": [
  {
   "attachments": {},
   "cell_type": "markdown",
   "metadata": {},
   "source": [
    "\n",
    "<center>\n",
    "    <img src=\"https://user-images.githubusercontent.com/67586773/105040771-43887300-5a88-11eb-9f01-bee100b9ef22.png\" width=\"300\" alt=\"cognitiveclass.ai logo\"  />\n",
    "</center>\n"
   ]
  },
  {
   "cell_type": "code",
   "execution_count": 239,
   "metadata": {},
   "outputs": [
    {
     "name": "stdout",
     "output_type": "stream",
     "text": [
      "WIN\n"
     ]
    },
    {
     "name": "stderr",
     "output_type": "stream",
     "text": [
      "C:\\Users\\ehsan\\AppData\\Local\\Temp\\ipykernel_13388\\799856001.py:3: DeprecationWarning: This function is deprecated. Please call randint(0, 100 + 1) instead\n",
      "  rng = np.random.random_integers(0,100,user_input).max()\n"
     ]
    }
   ],
   "source": [
    "import numpy as np\n",
    "user_input = int(input('Enter the number you want :'))\n",
    "rng = np.random.random_integers(0,100,user_input).max()\n",
    "if  rng > 70 :\n",
    "    print('WIN')\n",
    "elif rng < 70 :\n",
    "     print('FAIL')"
   ]
  }
 ],
 "metadata": {
  "kernelspec": {
   "display_name": "base",
   "language": "python",
   "name": "python3"
  },
  "language_info": {
   "codemirror_mode": {
    "name": "ipython",
    "version": 3
   },
   "file_extension": ".py",
   "mimetype": "text/x-python",
   "name": "python",
   "nbconvert_exporter": "python",
   "pygments_lexer": "ipython3",
   "version": "3.10.9"
  },
  "orig_nbformat": 4
 },
 "nbformat": 4,
 "nbformat_minor": 2
}
