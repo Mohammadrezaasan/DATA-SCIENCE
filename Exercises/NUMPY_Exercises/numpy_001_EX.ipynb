{
 "cells": [
  {
   "attachments": {},
   "cell_type": "markdown",
   "metadata": {},
   "source": [
    "\n",
    "<center>\n",
    "    <img src=\"https://user-images.githubusercontent.com/67586773/105040771-43887300-5a88-11eb-9f01-bee100b9ef22.png\" width=\"300\" alt=\"cognitiveclass.ai logo\"  />\n",
    "</center>\n"
   ]
  },
  {
   "attachments": {},
   "cell_type": "markdown",
   "metadata": {},
   "source": [
    "#### \n",
    "* Element-wise addition of 2 numpy arrays. Given are 2 similar dimensional numpy arrays, how to get a numpy array output in which every element is an element-wise sum of the 2 numpy arrays?\n"
   ]
  },
  {
   "cell_type": "code",
   "execution_count": 31,
   "metadata": {},
   "outputs": [
    {
     "name": "stdout",
     "output_type": "stream",
     "text": [
      "[5 7 9]\n"
     ]
    }
   ],
   "source": [
    "# Sample Solution\n",
    "import numpy as np\n",
    "a = np.array([1,2,3])\n",
    "b = np.array([4,5,6])\n",
    "c = a + b # Element-wise addition\n",
    "print(c)"
   ]
  },
  {
   "attachments": {},
   "cell_type": "markdown",
   "metadata": {},
   "source": [
    "#### --------------------------------------------------------------------------------------------------------------------------------\n",
    "* Create a 3x3 identity matrix."
   ]
  },
  {
   "cell_type": "code",
   "execution_count": 32,
   "metadata": {},
   "outputs": [
    {
     "name": "stdout",
     "output_type": "stream",
     "text": [
      "[[1. 0. 0.]\n",
      " [0. 1. 0.]\n",
      " [0. 0. 1.]]\n"
     ]
    }
   ],
   "source": [
    "# Sample Solution\n",
    "import numpy as np\n",
    "Z = np.eye(3)\n",
    "print(Z)"
   ]
  },
  {
   "attachments": {},
   "cell_type": "markdown",
   "metadata": {},
   "source": [
    "#### --------------------------------------------------------------------------------------------------------------------------------\n",
    "* Create a null vector of size 10 but the fifth value which is 1"
   ]
  },
  {
   "cell_type": "code",
   "execution_count": 33,
   "metadata": {},
   "outputs": [
    {
     "name": "stdout",
     "output_type": "stream",
     "text": [
      "[0. 0. 0. 0. 1. 0. 0. 0. 0. 0.]\n"
     ]
    }
   ],
   "source": [
    "# Sample Solution\n",
    "import numpy as np\n",
    "Z = np.zeros(10)\n",
    "Z[4] = 1\n",
    "print(Z)"
   ]
  },
  {
   "attachments": {},
   "cell_type": "markdown",
   "metadata": {},
   "source": [
    "#### --------------------------------------------------------------------------------------------------------------------------------\n",
    "* Compute the mean, median, standard deviation of a numpy array along the second axis."
   ]
  },
  {
   "cell_type": "code",
   "execution_count": 34,
   "metadata": {},
   "outputs": [
    {
     "name": "stdout",
     "output_type": "stream",
     "text": [
      "Mean:  [24.  15.  16.8]\n",
      "Median:  [17. 15.  4.]\n",
      "Standard Deviation:  [12.44186481  7.61577311 20.27214838]\n"
     ]
    }
   ],
   "source": [
    "# Sample Solution\n",
    "import numpy as np\n",
    "x = np.array([[14, 17, 12, 33, 44], \n",
    "              [15, 6, 27, 8, 19], \n",
    "              [23, 2, 54, 1, 4]])\n",
    "print(\"Mean: \", np.mean(x, axis=1))\n",
    "print(\"Median: \", np.median(x, axis=1))\n",
    "print(\"Standard Deviation: \", np.std(x, axis=1))"
   ]
  },
  {
   "attachments": {},
   "cell_type": "markdown",
   "metadata": {},
   "source": [
    "#### --------------------------------------------------------------------------------------------------------------------------------\n",
    "* Reverse a vector (first element becomes last).\n",
    "\n",
    "* Explanation: This exercise is about reversing the order of the elements in a numpy array. To do this, we can use slicing with a negative step size of -1. This means that we start from the end of the array and move backwards by one element at a time. The result is a new array that has the same elements as the original array but in reverse order.\n",
    "\n"
   ]
  },
  {
   "cell_type": "code",
   "execution_count": 35,
   "metadata": {},
   "outputs": [
    {
     "name": "stdout",
     "output_type": "stream",
     "text": [
      "[9 8 7 6 5 4 3 2 1 0]\n"
     ]
    }
   ],
   "source": [
    "# Sample Solution\n",
    "import numpy as np\n",
    "x = np.arange(10) # Create a numpy array of 10 elements from 0 to 9\n",
    "x = x[::-1] # Reverse the array by using a negative step size of -1\n",
    "print(x) # Print the reversed array\n"
   ]
  },
  {
   "attachments": {},
   "cell_type": "markdown",
   "metadata": {},
   "source": [
    "#### --------------------------------------------------------------------------------------------------------------------------------\n",
    "* Create a 8x8 matrix and fill it with a checkerboard pattern.\n",
    "\n",
    "* Explanation: This exercise is about creating a matrix that has a checkerboard pattern of zeros and ones. To do this, we can use slicing with different start, stop and step values to select different parts of the matrix and assign them to either zero or one. For example, Z[1::2,::2] means that we select every other row starting from row 1 (index 1) and every other column starting from column 0 (index 0). We assign these elements to one to create the checkerboard pattern. We do the same for Z[::2,1::2] but with different start values for rows and columns.\n",
    "\n"
   ]
  },
  {
   "cell_type": "code",
   "execution_count": 36,
   "metadata": {},
   "outputs": [
    {
     "name": "stdout",
     "output_type": "stream",
     "text": [
      "[[0 1 0 1 0 1 0 1]\n",
      " [1 0 1 0 1 0 1 0]\n",
      " [0 1 0 1 0 1 0 1]\n",
      " [1 0 1 0 1 0 1 0]\n",
      " [0 1 0 1 0 1 0 1]\n",
      " [1 0 1 0 1 0 1 0]\n",
      " [0 1 0 1 0 1 0 1]\n",
      " [1 0 1 0 1 0 1 0]]\n"
     ]
    }
   ],
   "source": [
    "# Sample Solution\n",
    "import numpy as np\n",
    "Z = np.zeros((8,8),dtype=int) # Create a 8x8 matrix of zeros with integer data type\n",
    "Z[1::2,::2] = 1 # Assign 1 to every other element in odd rows starting from row 1\n",
    "Z[::2,1::2] = 1 # Assign 1 to every other element in even rows starting from column 1\n",
    "print(Z) # Print the matrix\n"
   ]
  },
  {
   "attachments": {},
   "cell_type": "markdown",
   "metadata": {},
   "source": [
    "#### --------------------------------------------------------------------------------------------------------------------------------\n",
    "* Create a 5x5 matrix with values 1,2,3,4 just below the diagonal.\n",
    "\n",
    "* Explanation: This exercise is about creating a matrix that has values 1,2,3,4 just below the main diagonal. To do this, we can use the np.diag function that creates a diagonal matrix from a given array. We can also specify the position of the diagonal with the k parameter. If k is zero, it means the main diagonal. If k is negative, it means below the main diagonal. If k is positive, it means above the main diagonal. In this case, we want k to be -1 to create the matrix just below the main diagonal. We also use np.arange(4) to create an array of four elements from 0 to 3 and add one to each element to get the values 1,2,3,4.\n"
   ]
  },
  {
   "cell_type": "code",
   "execution_count": 37,
   "metadata": {},
   "outputs": [
    {
     "name": "stdout",
     "output_type": "stream",
     "text": [
      "[[0 0 0 0 0]\n",
      " [1 0 0 0 0]\n",
      " [0 2 0 0 0]\n",
      " [0 0 3 0 0]\n",
      " [0 0 0 4 0]]\n"
     ]
    }
   ],
   "source": [
    "# Sample Solution\n",
    "import numpy as np\n",
    "Z = np.diag(1+np.arange(4),k=-1) # Create a diagonal matrix with values 1,2,3,4 just below the main diagonal (k=-1)\n",
    "print(Z) # Print the matrix"
   ]
  },
  {
   "attachments": {},
   "cell_type": "markdown",
   "metadata": {},
   "source": [
    "#### --------------------------------------------------------------------------------------------------------------------------------\n",
    "* Write a NumPy program to create a vector of length 10 with values evenly distributed between 5 and 50."
   ]
  },
  {
   "cell_type": "code",
   "execution_count": 38,
   "metadata": {},
   "outputs": [
    {
     "name": "stdout",
     "output_type": "stream",
     "text": [
      "[ 5. 10. 15. 20. 25. 30. 35. 40. 45. 50.]\n"
     ]
    }
   ],
   "source": [
    "# Sample Solution\n",
    "import numpy as np\n",
    "x = np.linspace(5, 50, 10)\n",
    "print(x)"
   ]
  },
  {
   "attachments": {},
   "cell_type": "markdown",
   "metadata": {},
   "source": [
    "#### --------------------------------------------------------------------------------------------------------------------------------\n",
    "* Write a NumPy program to create a random vector of size 10 and sort it."
   ]
  },
  {
   "cell_type": "code",
   "execution_count": 39,
   "metadata": {},
   "outputs": [
    {
     "name": "stdout",
     "output_type": "stream",
     "text": [
      "[0.02831269 0.08234539 0.17342988 0.19574336 0.34445316 0.67329123\n",
      " 0.70662743 0.83942799 0.85291826 0.94124853]\n"
     ]
    }
   ],
   "source": [
    "# Sample Solution\n",
    "import numpy as np\n",
    "x = np.random.random(10)\n",
    "x.sort()\n",
    "print(x)\n"
   ]
  },
  {
   "attachments": {},
   "cell_type": "markdown",
   "metadata": {},
   "source": [
    "#### --------------------------------------------------------------------------------------------------------------------------------\n",
    "* Create an array and print its various ranges.\n"
   ]
  },
  {
   "cell_type": "code",
   "execution_count": 40,
   "metadata": {},
   "outputs": [
    {
     "name": "stdout",
     "output_type": "stream",
     "text": [
      "[[14 17 12]\n",
      " [15  6 27]]\n"
     ]
    }
   ],
   "source": [
    "# Sample Solution\n",
    "import numpy as np\n",
    "x = np.array([[14, 17, 12, 33, 44], \n",
    "              [15, 6, 27, 8, 19], \n",
    "              [23, 2, 54, 1, 4]])\n",
    "\n",
    "print(x[0:2,0:3])"
   ]
  }
 ],
 "metadata": {
  "kernelspec": {
   "display_name": "base",
   "language": "python",
   "name": "python3"
  },
  "language_info": {
   "codemirror_mode": {
    "name": "ipython",
    "version": 3
   },
   "file_extension": ".py",
   "mimetype": "text/x-python",
   "name": "python",
   "nbconvert_exporter": "python",
   "pygments_lexer": "ipython3",
   "version": "3.10.9"
  },
  "orig_nbformat": 4
 },
 "nbformat": 4,
 "nbformat_minor": 2
}
