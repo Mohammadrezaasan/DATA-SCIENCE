{
 "cells": [
  {
   "attachments": {},
   "cell_type": "markdown",
   "metadata": {},
   "source": [
    "# QUICK SORT ALGORITHM"
   ]
  },
  {
   "cell_type": "code",
   "execution_count": 21,
   "metadata": {},
   "outputs": [
    {
     "name": "stdout",
     "output_type": "stream",
     "text": [
      "Original array: [ 4 10  3  5  1]\n",
      "Sorted array: [ 1.  3.  4.  5. 10.]\n"
     ]
    }
   ],
   "source": [
    "import numpy as np\n",
    "\n",
    "def quick_sort(arr):\n",
    "    if len(arr) <= 1:\n",
    "        return arr\n",
    "    else:\n",
    "        first_index = arr[0]\n",
    "        less = np.array([x for x in arr[1:] if x <= first_index])\n",
    "        greater = np.array([x for x in arr[1:] if x > first_index])\n",
    "\n",
    "        return np.concatenate(( quick_sort(less), [first_index], quick_sort(greater)))\n",
    "\n",
    "arr = np.array([4,10,3,5,1])\n",
    "print(\"Original array:\", arr)\n",
    "\n",
    "print(\"Sorted array:\", quick_sort(arr))\n"
   ]
  },
  {
   "attachments": {},
   "cell_type": "markdown",
   "metadata": {},
   "source": [
    "# HEAP SORT ALGORITHM"
   ]
  },
  {
   "cell_type": "code",
   "execution_count": 22,
   "metadata": {},
   "outputs": [
    {
     "name": "stdout",
     "output_type": "stream",
     "text": [
      "Original array: [ 4 10  3  5  1]\n",
      "Sorted array: [ 1  3  4  5 10]\n"
     ]
    }
   ],
   "source": [
    "import numpy as np\n",
    "\n",
    "def heapify(arr, n, i):\n",
    "  largest = i\n",
    "  left = 2 * i + 1\n",
    "  right = 2 * i + 2\n",
    "  if left < n and arr[left] > arr[largest]:\n",
    "    largest = left\n",
    "\n",
    "  if right < n and arr[right] > arr[largest]:\n",
    "    largest = right\n",
    "  \n",
    "  if largest != i:\n",
    "    arr[i], arr[largest] = arr[largest], arr[i]\n",
    "    heapify(arr, n, largest)\n",
    "\n",
    "def heap_sort(arr):\n",
    "  n = len(arr)\n",
    "\n",
    "  for i in range(n//2 - 1, -1, -1):\n",
    "    heapify(arr, n, i)\n",
    "  for i in range(n-1, 0, -1):\n",
    "    arr[0], arr[i] = arr[i], arr[0]\n",
    "    n -= 1\n",
    "    heapify(arr, n, 0)\n",
    "\n",
    "arr = np.array([4,10,3,5,1])\n",
    "print(\"Original array:\", arr)\n",
    "heap_sort(arr)\n",
    "print(\"Sorted array:\", arr)\n"
   ]
  },
  {
   "attachments": {},
   "cell_type": "markdown",
   "metadata": {},
   "source": [
    "# MERGE SORT ALGORITHM"
   ]
  },
  {
   "cell_type": "code",
   "execution_count": 23,
   "metadata": {},
   "outputs": [
    {
     "name": "stdout",
     "output_type": "stream",
     "text": [
      "Original array: [2 1 4 3 5]\n",
      "Sorted array: [1 2 3 4 5]\n"
     ]
    }
   ],
   "source": [
    "import numpy as np\n",
    "def merge_sort(arr):\n",
    "    if len(arr) <= 1:\n",
    "        return arr\n",
    "    \n",
    "    mid = len(arr) // 2\n",
    "    left_half = arr[:mid]\n",
    "    right_half = arr[mid:]\n",
    "    \n",
    "    left_half = merge_sort(left_half)\n",
    "    right_half = merge_sort(right_half)\n",
    "    \n",
    "    return merge(left_half, right_half)\n",
    "\n",
    "def merge(left_half, right_half):\n",
    "    result = np.empty(len(left_half) + len(right_half), dtype=left_half.dtype)\n",
    "    i = j = 0\n",
    "    \n",
    "    while i < len(left_half) and j < len(right_half):\n",
    "        mask = left_half[i] < right_half[j]\n",
    "        result[i+j] = np.where(mask, left_half[i], right_half[j])\n",
    "        i += mask\n",
    "        j += ~mask\n",
    "    \n",
    "    result[i+j:i+j+len(left_half)-i] = left_half[i:]\n",
    "    result[i+j+len(left_half)-i:] = right_half[j:]\n",
    "    \n",
    "    return result\n",
    "\n",
    "arr = np.array([2,1,4,3,5])\n",
    "print(\"Original array:\", arr)\n",
    "sorted_arr = merge_sort(arr)\n",
    "print(\"Sorted array:\",sorted_arr)"
   ]
  }
 ],
 "metadata": {
  "kernelspec": {
   "display_name": "base",
   "language": "python",
   "name": "python3"
  },
  "language_info": {
   "codemirror_mode": {
    "name": "ipython",
    "version": 3
   },
   "file_extension": ".py",
   "mimetype": "text/x-python",
   "name": "python",
   "nbconvert_exporter": "python",
   "pygments_lexer": "ipython3",
   "version": "3.10.9"
  },
  "orig_nbformat": 4
 },
 "nbformat": 4,
 "nbformat_minor": 2
}
