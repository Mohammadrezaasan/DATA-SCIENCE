{
 "cells": [
  {
   "cell_type": "markdown",
   "metadata": {},
   "source": [
    "## T-TEST \n",
    "\n",
    "\n",
    "#### ما اختلاف میانگین رو حدود 1 به دست آوردیم که به این معنی بود که نشان دادن تبلیغ باعث بیشتر شدن تعداد بازی ها نشده بلکه باعث کمتر شدن شده خب برای اینکه ما مطمعن بشیم که این آماری که ما به دست آوردیم درسته و این احتمال شانسی به دست آمده یا خیر باید تست کنیم و ببینیم که این اختلاف از نظر آماری معنادار هست یا خیر که وقتی ما این تست را انجام دادیم متوجه شدیم که به احتمال 37 درصد این آمار شانسی به دست اومده چون حد معمول برای احتمال شانسی بودن 5 درصد است و این نشان دهنده اینه که ما باید دوباره دیتا جدیدی به دست بیاریم در مدت زمان بیشتری تا بتوانیم مطمعن بشویم که آیا نمایش تبلیغ باعث افزایش تعداد بازی ها شده یا خیر "
   ]
  },
  {
   "cell_type": "code",
   "execution_count": 14,
   "metadata": {},
   "outputs": [
    {
     "name": "stdout",
     "output_type": "stream",
     "text": [
      "1.157488453953249\n",
      "t-statistic: 0.89\n",
      "p-value: 0.3729\n",
      "37.29086824740521\n"
     ]
    }
   ],
   "source": [
    "import pandas as pd\n",
    "from scipy import stats\n",
    "\n",
    "df = pd.read_csv('mibilegame.csv')\n",
    "\n",
    "no_ads = df[df['version'] == 'gate_30']['sum_gamerounds']\n",
    "ads = df[df['version'] == 'gate_40']['sum_gamerounds']\n",
    "\n",
    "print('mean difference : ',no_ads.mean()-ads.mean())\n",
    "\n",
    "t_statistic, p_value = stats.ttest_ind(no_ads, ads, equal_var=True)\n",
    "\n",
    "print(f\"t-statistic: {t_statistic:.2f}\")\n",
    "print(f\"p-value: {p_value:.4f}\")\n",
    "print(p_value*100)\n"
   ]
  },
  {
   "cell_type": "markdown",
   "metadata": {},
   "source": [
    "## 💐💐 خسته نباشید"
   ]
  }
 ],
 "metadata": {
  "kernelspec": {
   "display_name": "base",
   "language": "python",
   "name": "python3"
  },
  "language_info": {
   "codemirror_mode": {
    "name": "ipython",
    "version": 3
   },
   "file_extension": ".py",
   "mimetype": "text/x-python",
   "name": "python",
   "nbconvert_exporter": "python",
   "pygments_lexer": "ipython3",
   "version": "3.10.9"
  },
  "orig_nbformat": 4
 },
 "nbformat": 4,
 "nbformat_minor": 2
}
