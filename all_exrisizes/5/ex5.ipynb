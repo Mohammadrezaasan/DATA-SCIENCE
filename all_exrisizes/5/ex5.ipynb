{
 "cells": [
  {
   "cell_type": "code",
   "execution_count": 16,
   "metadata": {},
   "outputs": [],
   "source": [
    "import pandas as pd \n",
    "import numpy as np \n",
    "import matplotlib.pyplot as plt\n",
    "from scipy.stats import ttest_ind\n",
    "\n",
    "data = pd.read_csv('marketing_AB.csv')\n"
   ]
  },
  {
   "cell_type": "code",
   "execution_count": 17,
   "metadata": {},
   "outputs": [
    {
     "name": "stdout",
     "output_type": "stream",
     "text": [
      "The average number of people who saw the ads and and bought a product :  2.5546559636683748 %\n",
      "The average number of people who not saw the ads and  bought a product :  1.785410644448223 %\n",
      "There is a 99.99% probability that the advertisement increased the sales statistics by  0.7692453192201517 %\n"
     ]
    },
    {
     "name": "stderr",
     "output_type": "stream",
     "text": [
      "C:\\Users\\ehsan\\AppData\\Local\\Temp\\ipykernel_10508\\4122070112.py:2: UserWarning: Boolean Series key will be reindexed to match DataFrame index.\n",
      "  the_users_buy = ad_data[data['converted'] == True][['user id', 'converted', 'total ads']]\n",
      "C:\\Users\\ehsan\\AppData\\Local\\Temp\\ipykernel_10508\\4122070112.py:6: UserWarning: Boolean Series key will be reindexed to match DataFrame index.\n",
      "  the_users_dont_buy = ad_data[data['converted'] == False][['user id', 'converted', 'total ads']]\n"
     ]
    }
   ],
   "source": [
    "ad_data = data[data['test group'] == 'ad'][['user id', 'converted', 'total ads']]\n",
    "the_users_buy = ad_data[data['converted'] == True][['user id', 'converted', 'total ads']]\n",
    "\n",
    "psa_data = data[data['test group'] == 'psa'][['user id', 'converted', 'total ads']]\n",
    "\n",
    "the_users_dont_buy = ad_data[data['converted'] == False][['user id', 'converted', 'total ads']]\n",
    "control_data = ad_data[ad_data['converted'] == True]\n",
    "\n",
    "\n",
    "print('The average number of people who saw the ads and and bought a product : ',ad_data['converted'].mean()*100,'%')\n",
    "\n",
    "print('The average number of people who not saw the ads and  bought a product : ',psa_data['converted'].mean()*100,'%')\n",
    "\n",
    "print('There is a 99.99% probability that the advertisement increased the sales statistics by ',(ad_data['converted'].mean()-psa_data['converted'].mean())*100,'%')\n"
   ]
  },
  {
   "cell_type": "code",
   "execution_count": 18,
   "metadata": {},
   "outputs": [
    {
     "name": "stdout",
     "output_type": "stream",
     "text": [
      "-99.99999999998296\n",
      "Two sample t-test p-value: Ttest_indResult(statistic=7.37040597428566, pvalue=1.7033052627831264e-13)\n"
     ]
    }
   ],
   "source": [
    "print(0.000000000017033052627831264-100)\n",
    "ads_data = data[data['test group'] == 'ad'][['user id', 'converted', 'total ads']]\n",
    "psa_data = data[data['test group'] == 'psa'][['user id', 'converted', 'total ads']]\n",
    "p_value = ttest_ind(ads_data['converted'], psa_data['converted'])\n",
    "print(f'Two sample t-test p-value:', p_value)"
   ]
  },
  {
   "attachments": {},
   "cell_type": "markdown",
   "metadata": {},
   "source": [
    "## AB Testing (T-TEST)\n",
    "####  با استفاده از روش های بالا مطمعن میشویم که آیا عدد ما از نظر آماری معنادار است یا خیر که در اینجا ما مقدار پی را 5 درصد در نظر گرفتیم و پی ولیو ما \n",
    "#### 0.000000000017033052627831264 %\n",
    "#### این مقدار به دست آمده و یعنی به احتمال این درصد بالا عدد %0.76\n",
    "#### شانسی میباشد که خیلی احتمال کمی است و به احتمال 99.99 درصد عدد به دست آمده از نظر آماری معنادار است"
   ]
  },
  {
   "attachments": {},
   "cell_type": "markdown",
   "metadata": {},
   "source": [
    "# 🙏🌹خسته نباشید  "
   ]
  }
 ],
 "metadata": {
  "kernelspec": {
   "display_name": "base",
   "language": "python",
   "name": "python3"
  },
  "language_info": {
   "codemirror_mode": {
    "name": "ipython",
    "version": 3
   },
   "file_extension": ".py",
   "mimetype": "text/x-python",
   "name": "python",
   "nbconvert_exporter": "python",
   "pygments_lexer": "ipython3",
   "version": "3.10.9"
  },
  "orig_nbformat": 4
 },
 "nbformat": 4,
 "nbformat_minor": 2
}
