{
 "cells": [
  {
   "attachments": {},
   "cell_type": "markdown",
   "metadata": {},
   "source": [
    "# QUICK SORT ALGORITHM\n",
    "#### ما داخل این قسمت اولین ایندکس از آرایه رو میگیریم و بعد دوتا متغیر درست میکنیم که با استفاده از فور یکیشون برای عدد کوچیک تر از ایندکس اول که انتخاب کردیم استفاده کنیم و از متغیر دوم هم برعکس متغیر اول عدد های بزرگتر را جای گذاری میکنیم  و بعد از فانکشن نامپای استفاده میکنیم تا به همدیگه وصل میکنیم."
   ]
  },
  {
   "cell_type": "code",
   "execution_count": 4,
   "metadata": {},
   "outputs": [
    {
     "name": "stdout",
     "output_type": "stream",
     "text": [
      "Sorted array: [ 1  3  4  5 10]\n"
     ]
    }
   ],
   "source": [
    "import numpy as np\n",
    "\n",
    "arr = np.array([4,10,3,5,1])\n",
    "arr = np.sort(arr, axis=-1, kind='quicksort', order=None)\n",
    "\n",
    "print(\"Sorted array:\",arr )\n"
   ]
  },
  {
   "attachments": {},
   "cell_type": "markdown",
   "metadata": {},
   "source": [
    "# HEAP SORT ALGORITHM\n",
    "\n",
    "####   این الگوریتم یه طوری شبیه فرمول درختی هستش که فک کنم بین کلاس هفتم تا نهم خوندیم ولی یخورده این پیشرفته تر از اونه خب اینجا ما اول باید بزرگ ترین عدد رو از آرایه یا لیستمون بگیریم مثل الگوریتم قبلی و اونو راس هرم قرار بدیم مثلا داخل کد پایین بزرگ ترین عدد آرایه ای که داریم 10 هستش بعد ما باید این عدد را با اخرین اینکسمون که 1 هست جا به جا کنیم بعد دوباره همین کارو از اول انجام میدیم بزرگ ترین عدد رو دوباره پیدا میکنیم و با اخرین ایندکس که به غیر از 10 باشه جا به جا میکنیم "
   ]
  },
  {
   "cell_type": "code",
   "execution_count": 5,
   "metadata": {},
   "outputs": [
    {
     "name": "stdout",
     "output_type": "stream",
     "text": [
      "Sorted array: [ 1  3  4  5 10]\n"
     ]
    }
   ],
   "source": [
    "import numpy as np\n",
    "\n",
    "arr = np.array([4,10,3,5,1])\n",
    "arr = np.sort(arr, axis=-1, kind='heapsort', order=None)\n",
    "\n",
    "print(\"Sorted array:\",arr )\n",
    "\n"
   ]
  },
  {
   "attachments": {},
   "cell_type": "markdown",
   "metadata": {},
   "source": [
    "# MERGE SORT ALGORITHM\n",
    "\n",
    "#### داخل این قسمت ما اول باید تعداد عدد های لیست یا آرایه ای که داریم روتقسیم بر 2 کنیم که بتونیم وسط اون لیستمون رو پیدا کنیم که داخل کد زیر تعداد عدد های موجود در لیست ما 7 هستند که وقتی تقسیم بر 3 کنیم عدد اعشاری در میاد یعنی 3.5 اینشکلی که ما باید این عدد رو به عدد صحیح تبدیل کنیم و وقتی وسط لیستمون رو پیدا کردیم باید این رو از وسط نصف کنیم یعنی یه نصفه سمت چپ و یه نصفه سمت راست  \n",
    "\n",
    "<center>\n",
    "    <img src=\"https://cdn.discordapp.com/attachments/856303332717232158/1118207441172168794/IMG_5124.png\" width=\"500\" alt=\"cognitiveclass.ai logo\"  />\n",
    "</center>\n",
    "\n",
    "####   و بعد دوباره باید همین کارو با لیست های نصف شده  هم انجام بدیم اینطوری تا داخل هر کدوم از لیست ها دو یا کمتر از دو عدد بمونه\n",
    "\n",
    "<center>\n",
    "    <img src=\"https://cdn.discordapp.com/attachments/856303332717232158/1118209668729290793/IMG_5125.png\" width=\"500\" alt=\"cognitiveclass.ai logo\"  />\n",
    "</center>\n",
    "\n",
    "#### و بعد اگه باز داخل هر لیست دو عدد مونده بود  باید اونو دوباره نصف کنیم تا وقتی که به یک عدد تبدیل بشه مثل عکس زیر\n",
    "\n",
    "<center>\n",
    "    <img src=\"https://cdn.discordapp.com/attachments/856303332717232158/1118211606585823412/IMG_5126.png\" width=\"500\" alt=\"cognitiveclass.ai logo\"  />\n",
    "</center>\n",
    "\n",
    "####   کردن که باید دوباره بین دو عدد جدا شده یک لیست دو عددی درست کنیم که عدد کوچیک تر را اول وارد لیست کنیم و عدد بزرگ تر را بعد اون  merge(ادغام)  از این مرحله به بعد کار اصلیمون شروع میشه یعنی\n",
    "\n",
    "<center>\n",
    "    <img src=\"https://cdn.discordapp.com/attachments/856303332717232158/1118214624861495356/IMG_5127.png\" width=\"500\" alt=\"cognitiveclass.ai logo\"  />\n",
    "</center>\n",
    "\n",
    "####       و بعد که دوباره لیست های ما به ترتیب کوچک به بزرگ ساخته شد دوباره باید آنها را با همدیگر ادغام کنیم یعنی باید ایندکس اول لیست [2 6] را با ایندکس اول لیست  [1 5] مقایسه کنیم و بعد هر کدوم کوچک تر بود اون رو اول مینویسیم و بعد اون عدد دوم رو هم عدد بزرگتر میگذاریم و بعد دوباره با ایندکس دوم این لیست ها هم همین کار را انجام میدیم و بعد میریم سراغ جفت لیست بعدی و همین کار ها را روش انجام میدیم و اگه یک عدد هم باقی مانده بود دیگه چون عدد دیگه ای وجود نداره که باهاش مقایسه بشه خودش را مینویسم\n",
    "\n",
    "<center>\n",
    "    <img src=\"https://cdn.discordapp.com/attachments/856303332717232158/1118221720264904724/IMG_5129.png\" width=\"500\" alt=\"cognitiveclass.ai logo\"  />\n",
    "</center>\n",
    "\n",
    "#### و در آخرین مرحله ما باید دونه به دونه عدد های لیست سمت چپ را با اولین ایندکس لیست سمت راست که 3 هستش مقایسه کنیم یعنی اینکه اولین ایندکس لیست سمت چپ که 1 هست رو با 3 مقایسه میکنیم و عدد کوچیکتر را در یک لیست دیگه قرار میدیم و دوباره همین کار را انجام میدهیم تا وقتی که تمام اعداد به ترتیب کوچک به بزرگ مرتب شوند\n",
    "\n",
    "<center>\n",
    "    <img src=\"https://cdn.discordapp.com/attachments/856303332717232158/1118222461826244678/IMG_5130.png\" width=\"500\" alt=\"cognitiveclass.ai logo\"  />\n",
    "</center>\n",
    "\n",
    "\n"
   ]
  },
  {
   "cell_type": "code",
   "execution_count": 6,
   "metadata": {},
   "outputs": [
    {
     "name": "stdout",
     "output_type": "stream",
     "text": [
      "Sorted array: [1 2 3 4 5 6 7]\n"
     ]
    }
   ],
   "source": [
    "import numpy as np\n",
    "\n",
    "arr = np.array([2,6,5,1,7,4,3])\n",
    "arr = np.sort(arr, axis=-1, kind='mergesort', order=None)\n",
    "\n",
    "print(\"Sorted array:\",arr)"
   ]
  }
 ],
 "metadata": {
  "kernelspec": {
   "display_name": "base",
   "language": "python",
   "name": "python3"
  },
  "language_info": {
   "codemirror_mode": {
    "name": "ipython",
    "version": 3
   },
   "file_extension": ".py",
   "mimetype": "text/x-python",
   "name": "python",
   "nbconvert_exporter": "python",
   "pygments_lexer": "ipython3",
   "version": "3.10.9"
  },
  "orig_nbformat": 4
 },
 "nbformat": 4,
 "nbformat_minor": 2
}
